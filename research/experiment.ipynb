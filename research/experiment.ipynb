{
 "cells": [
  {
   "cell_type": "code",
   "execution_count": 1,
   "metadata": {},
   "outputs": [
    {
     "data": {
      "text/plain": [
       "'g:\\\\GKML\\\\2025_GKTrainings_GenAI\\\\GKGenAIProjects_2025\\\\Medical-Chatbot\\\\research'"
      ]
     },
     "execution_count": 1,
     "metadata": {},
     "output_type": "execute_result"
    }
   ],
   "source": [
    "%pwd"
   ]
  },
  {
   "cell_type": "code",
   "execution_count": 2,
   "metadata": {},
   "outputs": [],
   "source": [
    "import os\n",
    "os.chdir('../')"
   ]
  },
  {
   "cell_type": "code",
   "execution_count": 3,
   "metadata": {},
   "outputs": [
    {
     "data": {
      "text/plain": [
       "'g:\\\\GKML\\\\2025_GKTrainings_GenAI\\\\GKGenAIProjects_2025\\\\Medical-Chatbot'"
      ]
     },
     "execution_count": 3,
     "metadata": {},
     "output_type": "execute_result"
    }
   ],
   "source": [
    "%pwd"
   ]
  },
  {
   "cell_type": "markdown",
   "metadata": {},
   "source": [
    "# Extract Data from PDF files"
   ]
  },
  {
   "cell_type": "code",
   "execution_count": 4,
   "metadata": {},
   "outputs": [],
   "source": [
    "from langchain_community.document_loaders import PyPDFLoader, DirectoryLoader\n",
    "from langchain.text_splitter import RecursiveCharacterTextSplitter"
   ]
  },
  {
   "cell_type": "code",
   "execution_count": 6,
   "metadata": {},
   "outputs": [],
   "source": [
    "def load_pdf_file(data):\n",
    "    loader = DirectoryLoader(path=data,\n",
    "                    glob=\"*.pdf\",\n",
    "                    loader_cls=PyPDFLoader)\n",
    "    documents = loader.load()\n",
    "    return documents"
   ]
  },
  {
   "cell_type": "code",
   "execution_count": 7,
   "metadata": {},
   "outputs": [],
   "source": [
    "extracted_data = load_pdf_file(data='Data/')"
   ]
  },
  {
   "cell_type": "code",
   "execution_count": 8,
   "metadata": {},
   "outputs": [
    {
     "data": {
      "text/plain": [
       "list"
      ]
     },
     "execution_count": 8,
     "metadata": {},
     "output_type": "execute_result"
    }
   ],
   "source": [
    "type(extracted_data)"
   ]
  },
  {
   "cell_type": "code",
   "execution_count": 9,
   "metadata": {},
   "outputs": [
    {
     "data": {
      "text/plain": [
       "637"
      ]
     },
     "execution_count": 9,
     "metadata": {},
     "output_type": "execute_result"
    }
   ],
   "source": [
    "len(extracted_data)"
   ]
  },
  {
   "cell_type": "markdown",
   "metadata": {},
   "source": [
    "# Split the documents to text chunks"
   ]
  },
  {
   "cell_type": "code",
   "execution_count": 10,
   "metadata": {},
   "outputs": [],
   "source": [
    "def text_split(extracted_data):\n",
    "    text_splitter = RecursiveCharacterTextSplitter(chunk_size=500,chunk_overlap=20)\n",
    "    text_chunks = text_splitter.split_documents(extracted_data)\n",
    "    return text_chunks"
   ]
  },
  {
   "cell_type": "code",
   "execution_count": 11,
   "metadata": {},
   "outputs": [
    {
     "name": "stdout",
     "output_type": "stream",
     "text": [
      "Length of chunks :  5860\n"
     ]
    }
   ],
   "source": [
    "text_chunks = text_split(extracted_data)\n",
    "print(\"Length of chunks : \",len(text_chunks))"
   ]
  },
  {
   "cell_type": "markdown",
   "metadata": {},
   "source": [
    "# Embedding Model"
   ]
  },
  {
   "cell_type": "code",
   "execution_count": 12,
   "metadata": {},
   "outputs": [],
   "source": [
    "\n",
    "# Using Google Gemini Embeddings instead of HuggingFace\n",
    "from langchain_google_genai import GoogleGenerativeAIEmbeddings\n",
    "\n",
    "# Initialize Google Gemini Embeddings\n",
    "def get_gemini_embeddings():\n",
    "    embeddings = GoogleGenerativeAIEmbeddings(model=\"models/embedding-001\")\n",
    "    return embeddings\n",
    "\n",
    "embeddings = get_gemini_embeddings()\n"
   ]
  },
  {
   "cell_type": "code",
   "execution_count": 13,
   "metadata": {},
   "outputs": [
    {
     "name": "stdout",
     "output_type": "stream",
     "text": [
      "Context Length 768\n"
     ]
    }
   ],
   "source": [
    "\n",
    "query_result = embeddings.embed_query(\"Hello world\")\n",
    "print(\"Context Length\", len(query_result))\n"
   ]
  },
  {
   "cell_type": "markdown",
   "metadata": {},
   "source": [
    "# Load environment variables from .env file"
   ]
  },
  {
   "cell_type": "code",
   "execution_count": 14,
   "metadata": {},
   "outputs": [],
   "source": [
    "\n",
    "from dotenv import load_dotenv\n",
    "import os\n",
    "load_dotenv()\n",
    "\n",
    "PINECONE_API_KEY = os.getenv('PINECONE_API_KEY')\n",
    "GOOGLE_API_KEY = os.getenv('GOOGLE_API_KEY')  # Added for Gemini\n",
    "GROQ_API_KEY = os.getenv('GROQ_API_KEY')"
   ]
  },
  {
   "cell_type": "code",
   "execution_count": 15,
   "metadata": {},
   "outputs": [],
   "source": [
    "os.environ['PINECONE_API_KEY'] = PINECONE_API_KEY\n",
    "os.environ['GOOGLE_API_KEY'] = GOOGLE_API_KEY\n",
    "os.environ['GROQ_API_KEY'] = GROQ_API_KEY"
   ]
  },
  {
   "cell_type": "markdown",
   "metadata": {},
   "source": [
    "# Vector Store\n",
    "\n",
    "- Convert the text to vectors and store in Vector Store ==> `pinecone vectorDB`\n",
    "- Pinecone index creation"
   ]
  },
  {
   "cell_type": "code",
   "execution_count": 16,
   "metadata": {},
   "outputs": [],
   "source": [
    "from pinecone.grpc import PineconeGRPC as Pinecone \n",
    "from pinecone import ServerlessSpec\n",
    "pc = Pinecone(api_key=PINECONE_API_KEY)\n",
    "index_name = 'gkbot'"
   ]
  },
  {
   "cell_type": "markdown",
   "metadata": {},
   "source": [
    "## Pinecone index creation"
   ]
  },
  {
   "cell_type": "code",
   "execution_count": 19,
   "metadata": {},
   "outputs": [
    {
     "data": {
      "text/plain": [
       "['medicalbot']"
      ]
     },
     "execution_count": 19,
     "metadata": {},
     "output_type": "execute_result"
    }
   ],
   "source": [
    "index_list = pc.list_indexes().names()\n",
    "index_list"
   ]
  },
  {
   "cell_type": "code",
   "execution_count": 22,
   "metadata": {},
   "outputs": [],
   "source": [
    "if index_name not in index_list:\n",
    "    pc.create_index(name=index_name,\n",
    "                    dimension=768,\n",
    "                    metric='cosine',\n",
    "                    spec=ServerlessSpec(\n",
    "                        cloud='aws',\n",
    "                        region='us-east-1'\n",
    "                    ))"
   ]
  },
  {
   "cell_type": "markdown",
   "metadata": {},
   "source": [
    "## Embed and upsert to Pinecone "
   ]
  },
  {
   "cell_type": "code",
   "execution_count": 23,
   "metadata": {},
   "outputs": [],
   "source": [
    "from langchain_pinecone import PineconeVectorStore\n",
    "docsearch = PineconeVectorStore.from_documents(documents=text_chunks,\n",
    "                                               embedding=embeddings,\n",
    "                                               index_name=index_name)"
   ]
  },
  {
   "cell_type": "markdown",
   "metadata": {},
   "source": [
    "## Load Existing index"
   ]
  },
  {
   "cell_type": "code",
   "execution_count": 24,
   "metadata": {},
   "outputs": [],
   "source": [
    "docsearch1 = PineconeVectorStore.from_existing_index(index_name=index_name,\n",
    "                                                     embedding=embeddings)"
   ]
  },
  {
   "cell_type": "markdown",
   "metadata": {},
   "source": [
    "# Create retriever"
   ]
  },
  {
   "cell_type": "code",
   "execution_count": 26,
   "metadata": {},
   "outputs": [],
   "source": [
    "retriever = docsearch.as_retriever(search_type=\"similarity\",\n",
    "                                   search_kwargs={\"k\":3})\n"
   ]
  },
  {
   "cell_type": "code",
   "execution_count": 27,
   "metadata": {},
   "outputs": [
    {
     "data": {
      "text/plain": [
       "[Document(id='b53cc754-5cfa-4b04-a1be-d1ddc4043a2d', metadata={'creationdate': '2004-12-18T17:00:02-05:00', 'creator': 'PyPDF', 'moddate': '2004-12-18T16:15:31-06:00', 'page': 246.0, 'page_label': '247', 'producer': 'PDFlib+PDI 5.0.0 (SunOS)', 'source': 'Data\\\\Medical_book.pdf', 'total_pages': 637.0}, page_content='of buspirone at the same time as mono-amine oxidase\\ninhibitors (MAOIs, phenelzine, tranycypromine) may\\ncause severe blood pressure elevations. Use of buspirone\\nwith MAOIs should be avoided.\\nSamuel Uretsky, PharmD\\nAntiarrhythmic drugs\\nDefinition\\nAntiarrhythmic drugs are medicines that correct irreg-\\nular heartbeats and slow down hearts that beat too fast.\\nKEY TERMS\\nAnxiety—Worry or tension in response to real or\\nimagined stress, danger, or dreaded situations.'),\n",
       " Document(id='3bdc987d-2f78-4740-8d36-589521d18a2f', metadata={'creationdate': '2004-12-18T17:00:02-05:00', 'creator': 'PyPDF', 'moddate': '2004-12-18T16:15:31-06:00', 'page': 333.0, 'page_label': '334', 'producer': 'PDFlib+PDI 5.0.0 (SunOS)', 'source': 'Data\\\\Medical_book.pdf', 'total_pages': 637.0}, page_content='work directly on the chemicals in the brain that are\\nthought to underlie the anxiety.\\nANXIOLYTICS. Anxiolytics are sometimes called\\ntranquilizers. Most anxiolytic drugs are either benzodi-\\nazepines or barbiturates. Barbiturates, once commonly\\nused, are now rarely used in clinical practice. Barbitu-\\nrates work by slowing down the transmission of nerve\\nimpulses from the brain to other parts of the body. They\\ninclude such drugs as phenobarbital (Luminal) and pen-'),\n",
       " Document(id='09130224-05d1-4b26-bda6-2b59bf7f32fc', metadata={'creationdate': '2004-12-18T17:00:02-05:00', 'creator': 'PyPDF', 'moddate': '2004-12-18T16:15:31-06:00', 'page': 269.0, 'page_label': '270', 'producer': 'PDFlib+PDI 5.0.0 (SunOS)', 'source': 'Data\\\\Medical_book.pdf', 'total_pages': 637.0}, page_content='CT 06105. (203) 232-4825.\\nEpilepsy Foundation of America. 4351 Garden City Drive,\\n#406, Landover, MD 20785. (800) 332-1000.\\nNational Institute of Neurological Disorders and Stroke. P.O.\\nBox 5801, Bethesda, MD 20824. (301) 496-5751.\\nNancy Ross-Flanigan\\nAntidepressant drugs\\nDefinition\\nAntidepressant drugs are medicines that relieve\\nsymptoms of depressive disorders.\\nPurpose\\nDepressive disorders may be either unipolar (depres-\\nsion alone) or bipolar (depression alternating with peri-')]"
      ]
     },
     "execution_count": 27,
     "metadata": {},
     "output_type": "execute_result"
    }
   ],
   "source": [
    "retrieved_docs = retriever.invoke(\"Antianxiety drugs\")\n",
    "retrieved_docs"
   ]
  },
  {
   "cell_type": "code",
   "execution_count": 28,
   "metadata": {},
   "outputs": [
    {
     "name": "stdout",
     "output_type": "stream",
     "text": [
      "of buspirone at the same time as mono-amine oxidase\n",
      "inhibitors (MAOIs, phenelzine, tranycypromine) may\n",
      "cause severe blood pressure elevations. Use of buspirone\n",
      "with MAOIs should be avoided.\n",
      "Samuel Uretsky, PharmD\n",
      "Antiarrhythmic drugs\n",
      "Definition\n",
      "Antiarrhythmic drugs are medicines that correct irreg-\n",
      "ular heartbeats and slow down hearts that beat too fast.\n",
      "KEY TERMS\n",
      "Anxiety—Worry or tension in response to real or\n",
      "imagined stress, danger, or dreaded situations.\n",
      "--------------------------------------------------------------------------------\n",
      "work directly on the chemicals in the brain that are\n",
      "thought to underlie the anxiety.\n",
      "ANXIOLYTICS. Anxiolytics are sometimes called\n",
      "tranquilizers. Most anxiolytic drugs are either benzodi-\n",
      "azepines or barbiturates. Barbiturates, once commonly\n",
      "used, are now rarely used in clinical practice. Barbitu-\n",
      "rates work by slowing down the transmission of nerve\n",
      "impulses from the brain to other parts of the body. They\n",
      "include such drugs as phenobarbital (Luminal) and pen-\n",
      "--------------------------------------------------------------------------------\n",
      "CT 06105. (203) 232-4825.\n",
      "Epilepsy Foundation of America. 4351 Garden City Drive,\n",
      "#406, Landover, MD 20785. (800) 332-1000.\n",
      "National Institute of Neurological Disorders and Stroke. P.O.\n",
      "Box 5801, Bethesda, MD 20824. (301) 496-5751.\n",
      "Nancy Ross-Flanigan\n",
      "Antidepressant drugs\n",
      "Definition\n",
      "Antidepressant drugs are medicines that relieve\n",
      "symptoms of depressive disorders.\n",
      "Purpose\n",
      "Depressive disorders may be either unipolar (depres-\n",
      "sion alone) or bipolar (depression alternating with peri-\n",
      "--------------------------------------------------------------------------------\n"
     ]
    }
   ],
   "source": [
    "for i in retrieved_docs:\n",
    "    print(i.page_content)\n",
    "    print('-'*80)"
   ]
  },
  {
   "cell_type": "markdown",
   "metadata": {},
   "source": [
    "# LLM"
   ]
  },
  {
   "cell_type": "code",
   "execution_count": 29,
   "metadata": {},
   "outputs": [],
   "source": [
    "from langchain_groq import ChatGroq\n",
    "llm = ChatGroq(model=\"llama3-70b-8192\")"
   ]
  },
  {
   "cell_type": "code",
   "execution_count": 30,
   "metadata": {},
   "outputs": [],
   "source": [
    "from langchain.chains.combine_documents import create_stuff_documents_chain\n",
    "from langchain.chains import create_retrieval_chain\n",
    "from langchain_core.prompts import ChatPromptTemplate"
   ]
  },
  {
   "cell_type": "code",
   "execution_count": 31,
   "metadata": {},
   "outputs": [],
   "source": [
    "\n",
    "system_prompt = (\n",
    "    \"You are an assistant for question-answering tasks. \"\n",
    "    \"Use the following pieces of retrieved context to answer \"\n",
    "    \"the question. If you don't know the answer, say that you \"\n",
    "    \"don't know. Use three sentences maximum and keep the \"\n",
    "    \"answer concise.\"\n",
    "    \"\\n\\n\"\n",
    "    \"{context}\"\n",
    ")"
   ]
  },
  {
   "cell_type": "code",
   "execution_count": 32,
   "metadata": {},
   "outputs": [],
   "source": [
    "\n",
    "prompt = ChatPromptTemplate.from_messages(\n",
    "    [\n",
    "        (\"system\", system_prompt),\n",
    "        (\"human\", \"{input}\"),\n",
    "    ]\n",
    ")"
   ]
  },
  {
   "cell_type": "markdown",
   "metadata": {},
   "source": [
    "## Legacy Chains"
   ]
  },
  {
   "cell_type": "code",
   "execution_count": 33,
   "metadata": {},
   "outputs": [],
   "source": [
    "question_answer_chain = create_stuff_documents_chain(llm, prompt)\n",
    "rag_chain = create_retrieval_chain(retriever, question_answer_chain)"
   ]
  },
  {
   "cell_type": "code",
   "execution_count": 34,
   "metadata": {},
   "outputs": [
    {
     "name": "stdout",
     "output_type": "stream",
     "text": [
      "{'input': 'what is Acromegaly and gigantism?', 'context': [Document(id='11540a84-238e-4cc7-9305-64be88c75b68', metadata={'creationdate': '2004-12-18T17:00:02-05:00', 'creator': 'PyPDF', 'moddate': '2004-12-18T16:15:31-06:00', 'page': 45.0, 'page_label': '46', 'producer': 'PDFlib+PDI 5.0.0 (SunOS)', 'source': 'Data\\\\Medical_book.pdf', 'total_pages': 637.0}, page_content='Whitehouse Station, NJ: Merck Research Laboratories,\\n1997.\\nLarsen, D. E., ed. Mayo Clinic Family Health Book.New York:\\nWilliam Morrow and Co., Inc., 1996.\\nJohn T. Lohr, PhD\\nAcromegaly and gigantism\\nDefinition\\nAcromegaly is a disorder in which the abnormal\\nrelease of a particular chemical from the pituitary gland\\nin the brain causes increased growth in bone and soft tis-\\nsue, as well as a variety of other disturbances throughout\\nthe body. This chemical released from the pituitary gland'), Document(id='7afdc60c-2733-408b-8331-8411877aedb4', metadata={'creationdate': '2004-12-18T17:00:02-05:00', 'creator': 'PyPDF', 'moddate': '2004-12-18T16:15:31-06:00', 'page': 47.0, 'page_label': '48', 'producer': 'PDFlib+PDI 5.0.0 (SunOS)', 'source': 'Data\\\\Medical_book.pdf', 'total_pages': 637.0}, page_content='mone Excess: Acromegaly and Gigantism.” In Harrison’s\\nPrinciples of Internal Medicine, ed. Anthony S. Fauci, et\\nal. New York: McGraw-Hill, 1997.\\nJameson, J. Larry. “Growth Hormone Excess: Acromegaly and\\nGigantism.” In Cecil Textbook of Medicine, ed. J. Claude\\nBennett and Fred Plum. Philadelphia: W. B. Saunders Co.,\\n1996.\\nPERIODICALS\\nJaffe, C. A. “Acromegaly: Recognition and Treatment.”Drugs\\n47, no. 3 (1994): 425+.\\nKrishna, A. Y . “Management of Acromegaly: A Review.”Ameri-'), Document(id='6f50d335-e66e-460d-a829-666a90516605', metadata={'creationdate': '2004-12-18T17:00:02-05:00', 'creator': 'PyPDF', 'moddate': '2004-12-18T16:15:31-06:00', 'page': 45.0, 'page_label': '46', 'producer': 'PDFlib+PDI 5.0.0 (SunOS)', 'source': 'Data\\\\Medical_book.pdf', 'total_pages': 637.0}, page_content='to grow, becoming thick and doughy. The jaw line, nose,\\nand forehead also grow, and facial features are described\\nas “coarsening”. The tongue grows larger, and because\\nthe jaw is larger, the teeth become more widely spaced.\\nDue to swelling within the structures of the throat and\\nsinuses, the voice becomes deeper and sounds more hol-\\nlow, and patients may develop loud snoring. Various hor-\\nmonal changes cause symptoms such as:\\nGALE ENCYCLOPEDIA OF MEDICINE 232\\nAcromegaly and gigantism')], 'answer': 'Acromegaly is a disorder in which the abnormal release of a particular chemical from the pituitary gland in the brain causes increased growth in bone and soft tissue, as well as a variety of other disturbances throughout the body. This leads to physical changes such as a thickening of the skin, a coarsening of facial features, and a deeper, hollow-sounding voice. Gigantism is a related condition that occurs when the same hormonal imbalance occurs in children or adolescents, leading to excessive growth and tall stature.'}\n"
     ]
    }
   ],
   "source": [
    "response = rag_chain.invoke({\"input\": \"what is Acromegaly and gigantism?\"})\n",
    "print(response)\n"
   ]
  },
  {
   "cell_type": "code",
   "execution_count": 35,
   "metadata": {},
   "outputs": [
    {
     "name": "stdout",
     "output_type": "stream",
     "text": [
      "Acromegaly is a disorder in which the abnormal release of a particular chemical from the pituitary gland in the brain causes increased growth in bone and soft tissue, as well as a variety of other disturbances throughout the body. This leads to physical changes such as a thickening of the skin, a coarsening of facial features, and a deeper, hollow-sounding voice. Gigantism is a related condition that occurs when the same hormonal imbalance occurs in children or adolescents, leading to excessive growth and tall stature.\n"
     ]
    }
   ],
   "source": [
    "print(response['answer'])"
   ]
  },
  {
   "cell_type": "code",
   "execution_count": 36,
   "metadata": {},
   "outputs": [
    {
     "name": "stdout",
     "output_type": "stream",
     "text": [
      "I don't know what \"stats\" refers to in this context. It's possible that it's an abbreviation for \"statistics,\" but without more information, I can't provide a specific answer.\n"
     ]
    }
   ],
   "source": [
    "\n",
    "response1 = rag_chain.invoke({\"input\": \"What is stats?\"})\n",
    "print(response1[\"answer\"])"
   ]
  },
  {
   "cell_type": "markdown",
   "metadata": {},
   "source": [
    "## LCEL Chains"
   ]
  },
  {
   "cell_type": "code",
   "execution_count": 37,
   "metadata": {},
   "outputs": [],
   "source": [
    "from langchain_core.runnables import RunnablePassthrough\n",
    "from langchain_core.output_parsers import StrOutputParser"
   ]
  },
  {
   "cell_type": "code",
   "execution_count": 38,
   "metadata": {},
   "outputs": [],
   "source": [
    "rag_chain = (\n",
    "    {\n",
    "        \"context\":retriever | (lambda docs: \"\\n\\n\".join(doc.page_content for doc in docs)),\n",
    "        \"input\": RunnablePassthrough()\n",
    "    }\n",
    "    | prompt\n",
    "    | llm\n",
    "    | StrOutputParser()\n",
    ")"
   ]
  },
  {
   "cell_type": "code",
   "execution_count": 39,
   "metadata": {},
   "outputs": [
    {
     "name": "stdout",
     "output_type": "stream",
     "text": [
      "Acromegaly is a disorder in which the abnormal release of a particular chemical from the pituitary gland in the brain causes increased growth in bone and soft tissue, as well as a variety of other disturbances throughout the body. This leads to physical changes such as thick and doughy skin, a coarsened facial feature, and a deeper voice. Gigantism is a related condition that occurs when the abnormal growth hormone release begins in childhood or adolescence, leading to abnormal growth and tall stature.\n"
     ]
    }
   ],
   "source": [
    "# Usage\n",
    "response = rag_chain.invoke(\"what is Acromegaly and gigantism?\")\n",
    "print(response)"
   ]
  },
  {
   "cell_type": "code",
   "execution_count": 41,
   "metadata": {},
   "outputs": [
    {
     "name": "stdout",
     "output_type": "stream",
     "text": [
      "I don't know what \"stats\" refers to in this context. It's possible that it's an abbreviation for \"statistics,\" but without more information, I can't provide a specific answer.\n"
     ]
    }
   ],
   "source": [
    "response = rag_chain.invoke(\"What is stats?\")\n",
    "print(response)"
   ]
  },
  {
   "cell_type": "code",
   "execution_count": null,
   "metadata": {},
   "outputs": [],
   "source": []
  }
 ],
 "metadata": {
  "kernelspec": {
   "display_name": "Python 3",
   "language": "python",
   "name": "python3"
  },
  "language_info": {
   "codemirror_mode": {
    "name": "ipython",
    "version": 3
   },
   "file_extension": ".py",
   "mimetype": "text/x-python",
   "name": "python",
   "nbconvert_exporter": "python",
   "pygments_lexer": "ipython3",
   "version": "3.11.11"
  }
 },
 "nbformat": 4,
 "nbformat_minor": 2
}
